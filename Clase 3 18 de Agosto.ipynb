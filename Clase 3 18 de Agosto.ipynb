{
 "cells": [
  {
   "cell_type": "code",
   "execution_count": 1,
   "id": "8f0d6fd8-ce2b-4a7e-b5e4-d7d20e2f41ee",
   "metadata": {},
   "outputs": [
    {
     "name": "stdout",
     "output_type": "stream",
     "text": [
      "132\n"
     ]
    }
   ],
   "source": [
    "def calculadora(n1, n2):\n",
    "    \n",
    "    r = n1 + n2\n",
    "    return r\n",
    "\n",
    "print(calculadora(12, 120))\n",
    "\n",
    "\n"
   ]
  },
  {
   "cell_type": "code",
   "execution_count": 5,
   "id": "2a5e4499-7922-4bb5-a52f-73ed805847de",
   "metadata": {},
   "outputs": [
    {
     "name": "stdout",
     "output_type": "stream",
     "text": [
      "['hola', 'como', 'estás']\n"
     ]
    }
   ],
   "source": [
    "texto_base= \"hola como estás\"\n",
    "y= texto_base.split(\" \")\n",
    "print(y)"
   ]
  },
  {
   "cell_type": "code",
   "execution_count": 23,
   "id": "50141a67-7cfe-452f-af67-820071d10197",
   "metadata": {},
   "outputs": [
    {
     "name": "stdout",
     "output_type": "stream",
     "text": [
      "['hola', 'como', 'estás', 1, 2, 3, 4, 5]\n",
      "['hola', 'como', 'estás', 1, 2, 3, 4, 5, 1, 2, 3, 4, 5]\n"
     ]
    }
   ],
   "source": [
    "len(y)\n",
    "y[len(y)-2:]\n",
    "o=[1,2,3,4,5]\n",
    "print(y)\n",
    "y.extend(o)\n",
    "print(y)"
   ]
  },
  {
   "cell_type": "code",
   "execution_count": 31,
   "id": "2b131f89-81c3-4cd5-92eb-3841e5b7c62a",
   "metadata": {},
   "outputs": [
    {
     "name": "stdout",
     "output_type": "stream",
     "text": [
      "1\n",
      "2\n",
      "5\n",
      "8\n"
     ]
    }
   ],
   "source": [
    "#18/08/25\n",
    "\n",
    "##TUPLAS##\n",
    "#Objetos ordenados de manera secuencial que NO son modificables. En vez de [], se usa () \n",
    "#No tiene append, extend, etc...\n",
    "\n",
    "#DESEMPACAR VALORES#\n",
    "#Solo de Python. Hago una asignación en base a valores\n",
    "#Ejemplo: \n",
    "\n",
    "x = (1,2,3) \n",
    "a, b, c = x \n",
    "print(a)\n",
    "\n",
    "#Ahora, tengo variables a = 1, b = 2 y c = 3\n",
    "#Esto sirve para loops: si \n",
    "\n",
    "t = [(1,2,3),(4,5,6),(7,8,9)] \n",
    "for a,b,c in t: \n",
    "    print(b) \n",
    "#b = 2, b = 5, b = 8 *las tuplas deben tener el mismo largo. Pero se pueden mezclar elementos (int, string -pues son iterables-, listas, etc). \n",
    "#para usar un for i tradicional da lo mismo el largo...\n",
    "\n",
    "#LISTAS#\n",
    "#Las usamos para: append(), acceder a elemento [:], eliminar elementos (LIFO...), extend() (sumar listas)\n",
    "#NO las usamos cuando: queremos poner \"datos al medio\" insert(index,element), quitar elementos del medio pop(index) (operaciones caras, pues se desordenan los otros datos)\n",
    "#NO las usamos para: buscar min() y max() (es caro porque recorre toda la lista...)\n",
    "\n",
    "##ENTREGA 1##\n",
    "\n",
    "#En RMarkddown\n",
    "#Hacer más de 8...\n",
    "#Con progreso paulatino entre entregas no hay razón para bajar nota, es un poco ambiguo el puntaje doe :v\n",
    "#Usar API´s cuando se pueda\n",
    "#Creatividad: por ejemplo, para mi es importante \"last\" inflación, pero para otro el \"acumulado\" de inflación\n",
    "#Cada endpoint tiene AL MENOS una base de datos/API. No hay problema con repetir base de datos; pero ojalá mejor dejarla en un solo endpoint y hacerle varias funciones\n",
    "\n",
    "\n"
   ]
  },
  {
   "cell_type": "code",
   "execution_count": 38,
   "id": "25016abe-d264-4445-886d-c7a53fe75b91",
   "metadata": {},
   "outputs": [
    {
     "name": "stdout",
     "output_type": "stream",
     "text": [
      "1\n"
     ]
    }
   ],
   "source": [
    "#CONTINUACIÓN 18/08/25\n",
    "\n",
    "##DICCIONARIOS##\n",
    "\n",
    "\n",
    "#Permite llamar objetos NO por posición, si no por su nombre. Su ventaja es que llego a una posición eacta (pero arbitraria) en la memoria, a través de una llave\n",
    "#Esto es distinto a una lista, pues en estas hay cosas ordenadas secuencialmente\n",
    "\n",
    "d = {\"llave\":1, \n",
    "     \"llave2\":3}\n",
    "print(d[\"llave\"])\n"
   ]
  },
  {
   "cell_type": "code",
   "execution_count": null,
   "id": "bd5f9b80-9aba-4c87-abd7-dc9d0309eea4",
   "metadata": {},
   "outputs": [],
   "source": [
    "#Probamos código en python puro...\n",
    "#1) Copio el código en VS CODE\n",
    "#2) Ejecuto conda: abro ambiente, cd y carpeta  donde esté el archivo\n",
    "#3) Ejecuto\n",
    "\n",
    "#Luego llevo a API"
   ]
  },
  {
   "cell_type": "code",
   "execution_count": 1,
   "id": "ee0fcc41-2c82-44fe-add5-f2542242173b",
   "metadata": {},
   "outputs": [
    {
     "name": "stdout",
     "output_type": "stream",
     "text": [
      "hola\n"
     ]
    }
   ],
   "source": [
    "#HOLIIIIII\n",
    "x = \"hola\"\n",
    "print(x)"
   ]
  },
  {
   "cell_type": "code",
   "execution_count": null,
   "id": "e8d63727-b930-493d-acfd-bbaf696664f5",
   "metadata": {},
   "outputs": [],
   "source": []
  }
 ],
 "metadata": {
  "kernelspec": {
   "display_name": "Python 3 (ipykernel)",
   "language": "python",
   "name": "python3"
  },
  "language_info": {
   "codemirror_mode": {
    "name": "ipython",
    "version": 3
   },
   "file_extension": ".py",
   "mimetype": "text/x-python",
   "name": "python",
   "nbconvert_exporter": "python",
   "pygments_lexer": "ipython3",
   "version": "3.12.11"
  }
 },
 "nbformat": 4,
 "nbformat_minor": 5
}
